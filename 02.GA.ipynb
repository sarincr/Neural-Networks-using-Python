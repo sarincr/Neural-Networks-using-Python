{
 "cells": [
  {
   "cell_type": "code",
   "execution_count": 17,
   "metadata": {},
   "outputs": [],
   "source": [
    "WEIGHT_LIMIT = 10\n",
    "value  = [11,22,10,25]\n",
    "weight = [5,2,1,3]"
   ]
  },
  {
   "cell_type": "code",
   "execution_count": 18,
   "metadata": {},
   "outputs": [],
   "source": [
    "# pos: Index of the current item\n",
    "# selected: list of indices of selected items\n",
    "def knapsack(pos, selected):\n",
    "\t# Calculate totals\n",
    "\ttotalValue = 0 \n",
    "\ttotalWeight = 0\n",
    "\tfor i in selected:\n",
    "\t\ttotalValue += value[i]\n",
    "\t\ttotalWeight += weight[i]\n",
    "\n",
    "\t# Base Case: Stop if Overweight\n",
    "\tif totalWeight > WEIGHT_LIMIT:\n",
    "\t\treturn (0,0)\n",
    "\t\t\n",
    "\t# Base Case: No items left\n",
    "\tif pos >= len(weight):\n",
    "\t\treturn (totalValue, totalWeight)\n",
    "\t\n",
    "\t# Recursive Case\n",
    "\tans1 = knapsack(pos+1, selected+[pos])\t# Switch On\n",
    "\tans2 = knapsack(pos+1, list(selected)) # Switch Off\n",
    "\t\n",
    "\tif ans1[0] > ans2[0]:\n",
    "\t\treturn ans1\n",
    "\telse:\n",
    "\t\treturn ans2\n",
    "\t\t"
   ]
  },
  {
   "cell_type": "code",
   "execution_count": 19,
   "metadata": {},
   "outputs": [
    {
     "name": "stdout",
     "output_type": "stream",
     "text": [
      "(58, 10)\n"
     ]
    }
   ],
   "source": [
    "ans = knapsack(0, [])\n",
    "print(ans)"
   ]
  }
 ],
 "metadata": {
  "kernelspec": {
   "display_name": "Python 3",
   "language": "python",
   "name": "python3"
  },
  "language_info": {
   "codemirror_mode": {
    "name": "ipython",
    "version": 3
   },
   "file_extension": ".py",
   "mimetype": "text/x-python",
   "name": "python",
   "nbconvert_exporter": "python",
   "pygments_lexer": "ipython3",
   "version": "3.7.5"
  }
 },
 "nbformat": 4,
 "nbformat_minor": 4
}
